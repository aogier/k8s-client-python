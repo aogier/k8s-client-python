{
 "cells": [
  {
   "cell_type": "markdown",
   "metadata": {
    "deletable": true,
    "editable": true
   },
   "source": [
    "How to create and use a Secret\n",
    "================\n",
    "\n",
    "A [Secret](https://kubernetes.io/docs/concepts/configuration/secret/) is an object that contains a small amount of sensitive data such as a password, a token, or a key. In this notebook, we would learn how to create a Secret and how to use Secrets as files from a Pod as seen  in https://kubernetes.io/docs/concepts/configuration/secret/#using-secrets"
   ]
  },
  {
   "cell_type": "code",
   "execution_count": null,
   "metadata": {
    "deletable": true,
    "editable": true
   },
   "outputs": [],
   "source": [
    "from kubernetes import client\n",
    "from kubernetes.stream import stream\n",
    "\n",
    "import time"
   ]
  },
  {
   "cell_type": "markdown",
   "metadata": {
    "deletable": true,
    "editable": true
   },
   "source": [
    "\n",
    "Client configuration is simplified so you can run examples either inside or outside a k8s scheduled pod. For normal use you will have to choose\n",
    "\n",
    "```python\n",
    "from kubernetes import config\n",
    "\n",
    "# Choose one:\n",
    "\n",
    "# from inside a cluster:\n",
    "config.load_incluster_config()\n",
    "\n",
    "# from outside a cluster:\n",
    "config.load_kube_config()\n",
    "\n",
    "```\n",
    "\n",
    "If you are using a proxy, you can use the _client Configuration_ to setup the host that the client should use. Otherwise read the kubeconfig file."
   ]
  },
  {
   "cell_type": "code",
   "execution_count": null,
   "metadata": {
    "deletable": true,
    "editable": true
   },
   "outputs": [],
   "source": [
    "from example_utils.config import load as example_config\n",
    "\n",
    "example_config()\n",
    "client.configuration.assert_hostname = False"
   ]
  },
  {
   "cell_type": "markdown",
   "metadata": {
    "deletable": true,
    "editable": true
   },
   "source": [
    "### Create API endpoint instance and API resource instances"
   ]
  },
  {
   "cell_type": "code",
   "execution_count": null,
   "metadata": {
    "deletable": true,
    "editable": true
   },
   "outputs": [],
   "source": [
    "api_instance = client.CoreV1Api()\n",
    "sec  = client.V1Secret()"
   ]
  },
  {
   "cell_type": "markdown",
   "metadata": {
    "deletable": true,
    "editable": true
   },
   "source": [
    "### Fill required Secret fields"
   ]
  },
  {
   "cell_type": "code",
   "execution_count": null,
   "metadata": {
    "deletable": true,
    "editable": true
   },
   "outputs": [],
   "source": [
    "sec.metadata = client.V1ObjectMeta(name=\"mysecret\")\n",
    "sec.type = \"Opaque\"\n",
    "sec.data = {\"username\": \"bXl1c2VybmFtZQ==\", \"password\": \"bXlwYXNzd29yZA==\"}"
   ]
  },
  {
   "cell_type": "markdown",
   "metadata": {
    "deletable": true,
    "editable": true
   },
   "source": [
    "### Create Secret"
   ]
  },
  {
   "cell_type": "code",
   "execution_count": null,
   "metadata": {
    "deletable": true,
    "editable": true
   },
   "outputs": [],
   "source": [
    "api_instance.create_namespaced_secret(namespace=\"default\", body=sec)"
   ]
  },
  {
   "cell_type": "markdown",
   "metadata": {
    "deletable": true,
    "editable": true
   },
   "source": [
    "### Add volumeMount which would be used to hold secret"
   ]
  },
  {
   "cell_type": "code",
   "execution_count": null,
   "metadata": {
    "deletable": true,
    "editable": true
   },
   "outputs": [],
   "source": [
    "volume_mounts = [client.V1VolumeMount(name = \"foo\", mount_path = \"/srv/secret\")]"
   ]
  },
  {
   "cell_type": "markdown",
   "metadata": {
    "deletable": true,
    "editable": true
   },
   "source": [
    "### Create test Pod API resource instances"
   ]
  },
  {
   "cell_type": "code",
   "execution_count": null,
   "metadata": {
    "deletable": true,
    "editable": true
   },
   "outputs": [],
   "source": [
    "pod = client.V1Pod()\n",
    "container = client.V1Container(name = \"mypod\", volume_mounts = volume_mounts, args = [\"sleep\", \"3600\"])\n",
    "container.image = \"busybox\"\n",
    "spec = client.V1PodSpec(containers=[container])\n",
    "pod.metadata = client.V1ObjectMeta(name=\"mypod\")"
   ]
  },
  {
   "cell_type": "markdown",
   "metadata": {
    "deletable": true,
    "editable": true
   },
   "source": [
    "### Create volume required by secret"
   ]
  },
  {
   "cell_type": "code",
   "execution_count": null,
   "metadata": {
    "deletable": true,
    "editable": true
   },
   "outputs": [],
   "source": [
    "spec.volumes = [client.V1Volume(name=\"foo\")]\n",
    "spec.volumes[0].secret = client.V1SecretVolumeSource(secret_name=\"mysecret\")"
   ]
  },
  {
   "cell_type": "code",
   "execution_count": null,
   "metadata": {
    "deletable": true,
    "editable": true
   },
   "outputs": [],
   "source": [
    "pod.spec = spec"
   ]
  },
  {
   "cell_type": "markdown",
   "metadata": {
    "deletable": true,
    "editable": true
   },
   "source": [
    "### Create the Pod"
   ]
  },
  {
   "cell_type": "code",
   "execution_count": null,
   "metadata": {
    "deletable": true,
    "editable": true
   },
   "outputs": [],
   "source": [
    "api_instance.create_namespaced_pod(namespace=\"default\",body=pod)"
   ]
  },
  {
   "cell_type": "markdown",
   "metadata": {
    "deletable": true,
    "editable": true
   },
   "source": [
    "### View secret being used within the pod"
   ]
  },
  {
   "cell_type": "code",
   "execution_count": null,
   "metadata": {
    "deletable": true,
    "editable": true
   },
   "outputs": [],
   "source": [
    "#Wait until pod is running before executing this section.\n",
    "while True:\n",
    "    resp = api_instance.read_namespaced_pod(name=\"mypod\",\n",
    "                                   namespace='default')\n",
    "    if resp.status.phase != 'Pending':\n",
    "        break\n",
    "    time.sleep(1)\n",
    "\n",
    "user = stream(api_instance.connect_get_namespaced_pod_exec, name=\"mypod\", namespace=\"default\",\n",
    "              command=[ \"/bin/sh\", \"-c\", \"cat /srv/secret/username\" ],\n",
    "              stderr=True, stdin=False, stdout=True, tty=False)\n",
    "print(user)\n",
    "passwd = stream(api_instance.connect_get_namespaced_pod_exec, name=\"mypod\", namespace=\"default\",\n",
    "                command=[ \"/bin/sh\", \"-c\", \"cat /srv/secret/password\" ],\n",
    "                stderr=True, stdin=False, stdout=True, tty=False)\n",
    "print(passwd)"
   ]
  },
  {
   "cell_type": "markdown",
   "metadata": {
    "deletable": true,
    "editable": true
   },
   "source": [
    "### Delete Pod"
   ]
  },
  {
   "cell_type": "code",
   "execution_count": null,
   "metadata": {
    "deletable": true,
    "editable": true
   },
   "outputs": [],
   "source": [
    "api_instance.delete_namespaced_pod(name=\"mypod\", namespace=\"default\", body=client.V1DeleteOptions())"
   ]
  },
  {
   "cell_type": "markdown",
   "metadata": {
    "deletable": true,
    "editable": true
   },
   "source": [
    "### Delete Secret"
   ]
  },
  {
   "cell_type": "code",
   "execution_count": null,
   "metadata": {
    "deletable": true,
    "editable": true
   },
   "outputs": [],
   "source": [
    "api_instance.delete_namespaced_secret(name=\"mysecret\", namespace=\"default\", body=sec)"
   ]
  },
  {
   "cell_type": "code",
   "execution_count": null,
   "metadata": {
    "deletable": true,
    "editable": true
   },
   "outputs": [],
   "source": []
  }
 ],
 "metadata": {
  "kernelspec": {
   "display_name": "Python 3",
   "language": "python",
   "name": "python3"
  },
  "language_info": {
   "codemirror_mode": {
    "name": "ipython",
    "version": 3
   },
   "file_extension": ".py",
   "mimetype": "text/x-python",
   "name": "python",
   "nbconvert_exporter": "python",
   "pygments_lexer": "ipython3",
   "version": "3.6.4+"
  }
 },
 "nbformat": 4,
 "nbformat_minor": 2
}
